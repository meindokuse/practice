{
 "cells": [
  {
   "cell_type": "code",
   "execution_count": 1,
   "id": "0ffe72e1",
   "metadata": {},
   "outputs": [
    {
     "name": "stdout",
     "output_type": "stream",
     "text": [
      "Requirement already satisfied: torch in .\\.venv\\lib\\site-packages (2.7.1)\n",
      "Requirement already satisfied: torchvision in .\\.venv\\lib\\site-packages (0.22.1)\n",
      "Requirement already satisfied: torchaudio in .\\.venv\\lib\\site-packages (2.7.1)\n",
      "Requirement already satisfied: filelock in .\\.venv\\lib\\site-packages (from torch) (3.18.0)\n",
      "Requirement already satisfied: typing-extensions>=4.10.0 in .\\.venv\\lib\\site-packages (from torch) (4.14.0)\n",
      "Requirement already satisfied: sympy>=1.13.3 in .\\.venv\\lib\\site-packages (from torch) (1.14.0)\n",
      "Requirement already satisfied: networkx in .\\.venv\\lib\\site-packages (from torch) (3.5)\n",
      "Requirement already satisfied: jinja2 in .\\.venv\\lib\\site-packages (from torch) (3.1.6)\n",
      "Requirement already satisfied: fsspec in .\\.venv\\lib\\site-packages (from torch) (2025.5.1)\n",
      "Requirement already satisfied: setuptools in .\\.venv\\lib\\site-packages (from torch) (80.9.0)\n",
      "Requirement already satisfied: numpy in .\\.venv\\lib\\site-packages (from torchvision) (2.3.1)\n",
      "Requirement already satisfied: pillow!=8.3.*,>=5.3.0 in .\\.venv\\lib\\site-packages (from torchvision) (11.3.0)\n",
      "Requirement already satisfied: mpmath<1.4,>=1.1.0 in .\\.venv\\lib\\site-packages (from sympy>=1.13.3->torch) (1.3.0)\n",
      "Requirement already satisfied: MarkupSafe>=2.0 in .\\.venv\\lib\\site-packages (from jinja2->torch) (3.0.2)\n"
     ]
    }
   ],
   "source": [
    "!pip install torch torchvision torchaudio"
   ]
  },
  {
   "cell_type": "code",
   "execution_count": 3,
   "id": "652e513e",
   "metadata": {},
   "outputs": [],
   "source": [
    "import torch\n",
    "import torch.nn as nn\n",
    "import torch.nn.functional as F"
   ]
  },
  {
   "cell_type": "code",
   "execution_count": 4,
   "id": "e882e2ce",
   "metadata": {},
   "outputs": [],
   "source": [
    "\n",
    "from torchvision import datasets, transforms"
   ]
  },
  {
   "cell_type": "code",
   "execution_count": 5,
   "id": "66d786d3",
   "metadata": {},
   "outputs": [],
   "source": [
    "import ssl\n",
    "ssl._create_default_https_context = ssl._create_unverified_context"
   ]
  },
  {
   "cell_type": "code",
   "execution_count": 6,
   "id": "93671168",
   "metadata": {},
   "outputs": [],
   "source": [
    "class CNN(nn.Module):\n",
    "    def __init__(self):\n",
    "        super(CNN, self).__init__()\n",
    "        self.conv1 = nn.Conv2d(in_channels=1, out_channels=32, kernel_size=3, padding=1)\n",
    "        self.conv2 = nn.Conv2d(32, 64, kernel_size=3, padding=1)\n",
    "        self.pool = nn.MaxPool2d(2, 2)\n",
    "        self.fc1 = nn.Linear(64 * 14 * 14, 128)\n",
    "        self.fc2 = nn.Linear(128, 10)\n",
    "        \n",
    "    def forward(self, x):\n",
    "        x = F.relu(self.conv1(x))\n",
    "        x = F.relu(self.conv2(x))\n",
    "        x = self.pool(x)\n",
    "        x = x.view(-1, 64 * 14 * 14)\n",
    "        x = F.relu(self.fc1(x))\n",
    "        return self.fc2(x)"
   ]
  },
  {
   "cell_type": "code",
   "execution_count": 7,
   "id": "0403e0d9",
   "metadata": {},
   "outputs": [],
   "source": [
    "model = CNN()"
   ]
  },
  {
   "cell_type": "code",
   "execution_count": 9,
   "id": "fb658990",
   "metadata": {},
   "outputs": [],
   "source": [
    "optimizer = torch.optim.Adam(model.parameters(), lr=0.001)"
   ]
  },
  {
   "cell_type": "code",
   "execution_count": 10,
   "id": "10ed7ce2",
   "metadata": {},
   "outputs": [],
   "source": [
    "criterion = nn.CrossEntropyLoss()"
   ]
  },
  {
   "cell_type": "code",
   "execution_count": 11,
   "id": "80c4ed40",
   "metadata": {},
   "outputs": [],
   "source": [
    "transform = transforms.Compose([transforms.ToTensor(), transforms.Normalize((0.1307,), (0.3081))])"
   ]
  },
  {
   "cell_type": "code",
   "execution_count": 12,
   "id": "92ea9290",
   "metadata": {},
   "outputs": [
    {
     "name": "stderr",
     "output_type": "stream",
     "text": [
      "100.0%\n",
      "100.0%\n",
      "100.0%\n",
      "100.0%\n"
     ]
    }
   ],
   "source": [
    "train_dataset = datasets.MNIST(root=\"./data\", train=True, download=True, transform=transform)\n",
    "test_dataset = datasets.MNIST(root=\"./data\", train=False, download=True, transform=transform)"
   ]
  },
  {
   "cell_type": "code",
   "execution_count": 14,
   "id": "286b450e",
   "metadata": {},
   "outputs": [],
   "source": [
    "\n",
    "from torch.utils.data import DataLoader"
   ]
  },
  {
   "cell_type": "code",
   "execution_count": 15,
   "id": "f32f5f12",
   "metadata": {},
   "outputs": [],
   "source": [
    "train_dataloader = DataLoader(train_dataset, batch_size=64, shuffle=True)"
   ]
  },
  {
   "cell_type": "code",
   "execution_count": 16,
   "id": "30786949",
   "metadata": {},
   "outputs": [],
   "source": [
    "test_dataloader = DataLoader(test_dataset, batch_size=1000, shuffle=False)"
   ]
  },
  {
   "cell_type": "code",
   "execution_count": 17,
   "id": "3c82c6e5",
   "metadata": {},
   "outputs": [],
   "source": [
    "def train(model, loader, optimizer, criterion, epoch):\n",
    "    model.train()\n",
    "    for batch_idx, (data, target) in enumerate(loader):\n",
    "        optimizer.zero_grad()\n",
    "        output = model(data)\n",
    "        loss = criterion(output, target)\n",
    "        loss.backward()\n",
    "        optimizer.step()\n",
    "        \n",
    "        if batch_idx % 100 == 0:\n",
    "            print(f\"Train Epoch: {epoch} Loss: {loss.item():4f}\")"
   ]
  },
  {
   "cell_type": "code",
   "execution_count": null,
   "id": "deb58dee",
   "metadata": {},
   "outputs": [
    {
     "name": "stdout",
     "output_type": "stream",
     "text": [
      "Train Epoch: 1 Loss: 2.311955\n",
      "Train Epoch: 1 Loss: 0.162388\n",
      "Train Epoch: 1 Loss: 0.076238\n",
      "Train Epoch: 1 Loss: 0.067604\n",
      "Train Epoch: 1 Loss: 0.016934\n",
      "Train Epoch: 1 Loss: 0.059675\n",
      "Train Epoch: 1 Loss: 0.031734\n",
      "Train Epoch: 1 Loss: 0.014425\n",
      "Train Epoch: 1 Loss: 0.034859\n",
      "Train Epoch: 1 Loss: 0.006740\n",
      "Train Epoch: 2 Loss: 0.014462\n",
      "Train Epoch: 2 Loss: 0.095367\n",
      "Train Epoch: 2 Loss: 0.002400\n",
      "Train Epoch: 2 Loss: 0.004198\n",
      "Train Epoch: 2 Loss: 0.005992\n",
      "Train Epoch: 2 Loss: 0.006236\n",
      "Train Epoch: 2 Loss: 0.001590\n",
      "Train Epoch: 2 Loss: 0.000691\n",
      "Train Epoch: 2 Loss: 0.036227\n",
      "Train Epoch: 2 Loss: 0.023482\n",
      "Train Epoch: 3 Loss: 0.010620\n",
      "Train Epoch: 3 Loss: 0.000680\n",
      "Train Epoch: 3 Loss: 0.001568\n",
      "Train Epoch: 3 Loss: 0.017965\n",
      "Train Epoch: 3 Loss: 0.041333\n",
      "Train Epoch: 3 Loss: 0.059049\n",
      "Train Epoch: 3 Loss: 0.023313\n",
      "Train Epoch: 3 Loss: 0.003389\n",
      "Train Epoch: 3 Loss: 0.002017\n",
      "Train Epoch: 3 Loss: 0.017061\n",
      "Train Epoch: 4 Loss: 0.013348\n",
      "Train Epoch: 4 Loss: 0.001327\n",
      "Train Epoch: 4 Loss: 0.000362\n",
      "Train Epoch: 4 Loss: 0.016515\n",
      "Train Epoch: 4 Loss: 0.006760\n",
      "Train Epoch: 4 Loss: 0.000389\n",
      "Train Epoch: 4 Loss: 0.007053\n",
      "Train Epoch: 4 Loss: 0.007672\n",
      "Train Epoch: 4 Loss: 0.023206\n",
      "Train Epoch: 4 Loss: 0.003295\n",
      "Train Epoch: 5 Loss: 0.000761\n",
      "Train Epoch: 5 Loss: 0.000858\n",
      "Train Epoch: 5 Loss: 0.022521\n",
      "Train Epoch: 5 Loss: 0.000318\n",
      "Train Epoch: 5 Loss: 0.000523\n",
      "Train Epoch: 5 Loss: 0.009566\n",
      "Train Epoch: 5 Loss: 0.000773\n",
      "Train Epoch: 5 Loss: 0.001262\n",
      "Train Epoch: 5 Loss: 0.015250\n",
      "Train Epoch: 5 Loss: 0.008402\n"
     ]
    }
   ],
   "source": [
    "for epoch in range(1, 6):\n",
    "    train(model, train_dataloader, optimizer, criterion, epoch)"
   ]
  },
  {
   "cell_type": "code",
   "execution_count": 19,
   "id": "701c27fc",
   "metadata": {},
   "outputs": [],
   "source": [
    "def test(model, loader):\n",
    "    model.eval()\n",
    "    correct = 0\n",
    "    total = 0\n",
    "    with torch.no_grad():\n",
    "        for data, target in loader:\n",
    "            output = model(data)\n",
    "            print(output.shape)\n",
    "            pred = output.argmax(dim=1)\n",
    "            correct += (pred == target).sum().item()\n",
    "            total += target.size(0)\n",
    "\n",
    "        acc = 100 * correct / total \n",
    "        print(f\"Test accuracy: {acc: 2f}%\")\n"
   ]
  },
  {
   "cell_type": "code",
   "execution_count": 20,
   "id": "1062bb92",
   "metadata": {},
   "outputs": [
    {
     "name": "stdout",
     "output_type": "stream",
     "text": [
      "torch.Size([1000, 10])\n",
      "torch.Size([1000, 10])\n",
      "torch.Size([1000, 10])\n",
      "torch.Size([1000, 10])\n",
      "torch.Size([1000, 10])\n",
      "torch.Size([1000, 10])\n",
      "torch.Size([1000, 10])\n",
      "torch.Size([1000, 10])\n",
      "torch.Size([1000, 10])\n",
      "torch.Size([1000, 10])\n",
      "Test accuracy:  98.590000%\n"
     ]
    }
   ],
   "source": [
    "test(model, test_dataloader)"
   ]
  }
 ],
 "metadata": {
  "kernelspec": {
   "display_name": ".venv",
   "language": "python",
   "name": "python3"
  },
  "language_info": {
   "codemirror_mode": {
    "name": "ipython",
    "version": 3
   },
   "file_extension": ".py",
   "mimetype": "text/x-python",
   "name": "python",
   "nbconvert_exporter": "python",
   "pygments_lexer": "ipython3",
   "version": "3.13.5"
  }
 },
 "nbformat": 4,
 "nbformat_minor": 5
}
